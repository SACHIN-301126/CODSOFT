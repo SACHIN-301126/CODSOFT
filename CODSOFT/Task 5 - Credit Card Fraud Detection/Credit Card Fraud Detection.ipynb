{
 "cells": [
  {
   "cell_type": "code",
   "execution_count": 4,
   "id": "8a0ee55b-1a12-44f8-84e1-75f3f3b710fa",
   "metadata": {},
   "outputs": [
    {
     "name": "stdout",
     "output_type": "stream",
     "text": [
      "Original class distribution:\n",
      "Class\n",
      "0    28432\n",
      "1       49\n",
      "Name: count, dtype: int64\n",
      "\n",
      "After SMOTE class distribution:\n",
      "Class\n",
      "0    28432\n",
      "1    28432\n",
      "Name: count, dtype: int64\n",
      "\n",
      "Confusion Matrix:\n",
      "[[8507    3]\n",
      " [   0 8550]]\n",
      "\n",
      "Classification Report:\n",
      "              precision    recall  f1-score   support\n",
      "\n",
      "           0       1.00      1.00      1.00      8510\n",
      "           1       1.00      1.00      1.00      8550\n",
      "\n",
      "    accuracy                           1.00     17060\n",
      "   macro avg       1.00      1.00      1.00     17060\n",
      "weighted avg       1.00      1.00      1.00     17060\n",
      "\n"
     ]
    }
   ],
   "source": [
    "import pandas as pd\n",
    "from sklearn.model_selection import train_test_split\n",
    "from sklearn.ensemble import RandomForestClassifier\n",
    "from sklearn.metrics import classification_report, confusion_matrix\n",
    "from imblearn.over_sampling import SMOTE\n",
    "\n",
    "df = pd.read_csv(\"creditcard.csv\").sample(frac=0.1, random_state=1)\n",
    "\n",
    "if 'Class' not in df.columns:\n",
    "    print(\"Target column 'Class' not found in dataset.\")\n",
    "else:\n",
    "    print(\"Original class distribution:\")\n",
    "    print(df['Class'].value_counts())\n",
    "\n",
    "    X = df.drop('Class', axis=1)\n",
    "    y = df['Class']\n",
    "\n",
    "    sm = SMOTE(random_state=42)\n",
    "    X_resampled, y_resampled = sm.fit_resample(X, y)\n",
    "\n",
    "    print(\"\\nAfter SMOTE class distribution:\")\n",
    "    print(pd.Series(y_resampled).value_counts())\n",
    "\n",
    "    X_train, X_test, y_train, y_test = train_test_split(X_resampled, y_resampled, test_size=0.3, random_state=42)\n",
    "\n",
    "    model = RandomForestClassifier()\n",
    "    model.fit(X_train, y_train)\n",
    "\n",
    "    y_pred = model.predict(X_test)\n",
    "\n",
    "    print(\"\\nConfusion Matrix:\")\n",
    "    print(confusion_matrix(y_test, y_pred))\n",
    "\n",
    "    print(\"\\nClassification Report:\")\n",
    "    print(classification_report(y_test, y_pred))\n"
   ]
  },
  {
   "cell_type": "code",
   "execution_count": null,
   "id": "33b1074e-e55d-4aaf-93cf-8af1ce94d400",
   "metadata": {},
   "outputs": [],
   "source": []
  }
 ],
 "metadata": {
  "kernelspec": {
   "display_name": "Python [conda env:base] *",
   "language": "python",
   "name": "conda-base-py"
  },
  "language_info": {
   "codemirror_mode": {
    "name": "ipython",
    "version": 3
   },
   "file_extension": ".py",
   "mimetype": "text/x-python",
   "name": "python",
   "nbconvert_exporter": "python",
   "pygments_lexer": "ipython3",
   "version": "3.13.5"
  }
 },
 "nbformat": 4,
 "nbformat_minor": 5
}
